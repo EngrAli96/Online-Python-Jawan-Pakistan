{
 "cells": [
  {
   "cell_type": "code",
   "execution_count": 16,
   "id": "4dcd0dad",
   "metadata": {},
   "outputs": [
    {
     "name": "stdout",
     "output_type": "stream",
     "text": [
      "Total Marks 300\n",
      "Obtained Marks 241\n",
      "your percentage is 80.33333333333333\n",
      "your grade is A1\n"
     ]
    }
   ],
   "source": [
    "english=80;\n",
    "islamiat=88;\n",
    "maths=73\n",
    "obtained_marks=english+islamiat+maths;\n",
    "total=300;\n",
    "\n",
    "percent=(obtained_marks/total)*100;\n",
    "\n",
    "Grade=\"\";\n",
    "if percent < 100 and percent >=80:\n",
    "     Grade=\"A1\";\n",
    "elif percent < 80 and percent >=70:\n",
    "     Grade=\"A\";\n",
    "elif percent < 70 and percent >=60:\n",
    "     Grade=\"B\";\n",
    "elif percent < 60 and percent >=50:\n",
    "     Grade=\"C\";\n",
    "elif percent < 50:\n",
    "     Grade=\"F\";\n",
    "print(\"Total Marks\",total);\n",
    "print(\"Obtained Marks\",obtained_marks);\n",
    "print(\"your percentage is\",percent);\n",
    "print(\"your grade is\",Grade);\n",
    "\n"
   ]
  },
  {
   "cell_type": "code",
   "execution_count": null,
   "id": "df5c0e6c",
   "metadata": {},
   "outputs": [],
   "source": []
  }
 ],
 "metadata": {
  "kernelspec": {
   "display_name": "Python 3",
   "language": "python",
   "name": "python3"
  },
  "language_info": {
   "codemirror_mode": {
    "name": "ipython",
    "version": 3
   },
   "file_extension": ".py",
   "mimetype": "text/x-python",
   "name": "python",
   "nbconvert_exporter": "python",
   "pygments_lexer": "ipython3",
   "version": "3.8.8"
  }
 },
 "nbformat": 4,
 "nbformat_minor": 5
}
